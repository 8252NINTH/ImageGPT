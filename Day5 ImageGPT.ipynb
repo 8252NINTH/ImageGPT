{
 "cells": [
  {
   "cell_type": "code",
   "execution_count": 3,
   "id": "ffacd7e1",
   "metadata": {},
   "outputs": [],
   "source": [
    "import json,time"
   ]
  },
  {
   "cell_type": "code",
   "execution_count": 4,
   "id": "3d135b61",
   "metadata": {},
   "outputs": [
    {
     "name": "stdout",
     "output_type": "stream",
     "text": [
      "Please describe the picture you wanted : cat\n"
     ]
    }
   ],
   "source": [
    "q = input(\"Please describe the picture you wanted : \")"
   ]
  },
  {
   "cell_type": "code",
   "execution_count": 10,
   "id": "8ea207c0",
   "metadata": {},
   "outputs": [],
   "source": [
    "body = json.dumps(\n",
    "    {\n",
    "        \"version\" : \"db21e45d3f7023abc2a46ee38a23973f6dce16bb082a930b0c49861f96d1e5bf\",\n",
    "        \"input\" : {\"prompt\":q}\n",
    "    }\n",
    ")"
   ]
  },
  {
   "cell_type": "code",
   "execution_count": 11,
   "id": "88eaaf9d",
   "metadata": {},
   "outputs": [],
   "source": [
    "headers = {\n",
    "    \"Authorization\" : \"token r8_7NCbypz0R2PPH8t7OrxSTgiPB2lwEIb0gcVwi\",\n",
    "    \"Content-Type\" : \"application/json\"\n",
    "}"
   ]
  },
  {
   "cell_type": "code",
   "execution_count": 12,
   "id": "b177e07b",
   "metadata": {},
   "outputs": [],
   "source": [
    "import requests\n",
    "r = requests.post(\"https://api.replicate.com/v1/predictions\",data=body, headers=headers)"
   ]
  },
  {
   "cell_type": "code",
   "execution_count": 13,
   "id": "467335c2",
   "metadata": {},
   "outputs": [],
   "source": [
    "time.sleep(10)"
   ]
  },
  {
   "cell_type": "code",
   "execution_count": 14,
   "id": "b5ca4c56",
   "metadata": {},
   "outputs": [],
   "source": [
    "get_url = r.json()[\"urls\"][\"get\"]"
   ]
  },
  {
   "cell_type": "code",
   "execution_count": 15,
   "id": "786fe59e",
   "metadata": {},
   "outputs": [
    {
     "data": {
      "text/plain": [
       "'https://api.replicate.com/v1/predictions/hfwiojdbrypbdkitpwzjsakk6u'"
      ]
     },
     "execution_count": 15,
     "metadata": {},
     "output_type": "execute_result"
    }
   ],
   "source": [
    "get_url"
   ]
  },
  {
   "cell_type": "code",
   "execution_count": 16,
   "id": "aba48d54",
   "metadata": {},
   "outputs": [],
   "source": [
    "get_result = requests.post(get_url,headers=headers).json()[\"output\"]"
   ]
  },
  {
   "cell_type": "code",
   "execution_count": 17,
   "id": "90c5a6b9",
   "metadata": {},
   "outputs": [
    {
     "data": {
      "text/plain": [
       "['https://replicate.delivery/pbxt/DBPz25v5kkbaHNM2QLmlFEqsIBvDrq1VYYhw4fPO3ObCrRqIA/out-0.png']"
      ]
     },
     "execution_count": 17,
     "metadata": {},
     "output_type": "execute_result"
    }
   ],
   "source": [
    "get_result"
   ]
  },
  {
   "cell_type": "code",
   "execution_count": 18,
   "id": "57a273f4",
   "metadata": {},
   "outputs": [],
   "source": [
    "from PIL import Image"
   ]
  },
  {
   "cell_type": "code",
   "execution_count": 20,
   "id": "537d4f63",
   "metadata": {},
   "outputs": [],
   "source": [
    "img = Image.open(requests.get(get_result[0],stream=True).raw)"
   ]
  },
  {
   "cell_type": "code",
   "execution_count": 21,
   "id": "fa5bdb8f",
   "metadata": {},
   "outputs": [],
   "source": [
    "img.show()"
   ]
  },
  {
   "cell_type": "code",
   "execution_count": null,
   "id": "95c7f163",
   "metadata": {},
   "outputs": [],
   "source": []
  },
  {
   "cell_type": "code",
   "execution_count": null,
   "id": "764adf07",
   "metadata": {},
   "outputs": [],
   "source": []
  },
  {
   "cell_type": "code",
   "execution_count": null,
   "id": "90033605",
   "metadata": {},
   "outputs": [],
   "source": []
  }
 ],
 "metadata": {
  "kernelspec": {
   "display_name": "Python 3 (ipykernel)",
   "language": "python",
   "name": "python3"
  },
  "language_info": {
   "codemirror_mode": {
    "name": "ipython",
    "version": 3
   },
   "file_extension": ".py",
   "mimetype": "text/x-python",
   "name": "python",
   "nbconvert_exporter": "python",
   "pygments_lexer": "ipython3",
   "version": "3.9.13"
  }
 },
 "nbformat": 4,
 "nbformat_minor": 5
}
